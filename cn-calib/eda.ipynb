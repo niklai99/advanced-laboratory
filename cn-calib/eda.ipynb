{
 "cells": [
  {
   "cell_type": "markdown",
   "metadata": {},
   "source": [
    "# Advanced Laboratory (MOD B)"
   ]
  },
  {
   "cell_type": "code",
   "execution_count": 1,
   "metadata": {},
   "outputs": [],
   "source": [
    "import numpy as np\n",
    "import matplotlib.pyplot as plt\n",
    "import pandas as pd\n",
    "\n",
    "from DataFormat import RootFileFormat, DataHistogram\n",
    "from read_data import read_data\n",
    "\n",
    "import glob"
   ]
  },
  {
   "cell_type": "markdown",
   "metadata": {},
   "source": [
    "## Constants"
   ]
  },
  {
   "cell_type": "code",
   "execution_count": 2,
   "metadata": {},
   "outputs": [],
   "source": [
    "# path to data files\n",
    "DATA_PATH = \"./data/\"\n",
    "\n",
    "CALIBRATIONS = (\"137Cs22Na\", \"60Co\", \"137Cs\", \"22Na\", \"133Ba\")"
   ]
  },
  {
   "cell_type": "markdown",
   "metadata": {},
   "source": [
    "## Functions"
   ]
  },
  {
   "cell_type": "code",
   "execution_count": 3,
   "metadata": {},
   "outputs": [],
   "source": [
    "def create_datasets(file_name):\n",
    "    a_energy, a_time, b_energy, b_time, c_energy, c_time, d_energy, d_time, e_energy, e_time = read_data(file_name, RootFileFormat())\n",
    "    a = DataHistogram(energy=a_energy, time=a_time)\n",
    "    b = DataHistogram(energy=b_energy, time=b_time)\n",
    "    c = DataHistogram(energy=c_energy, time=c_time)\n",
    "    d = DataHistogram(energy=d_energy, time=d_time)\n",
    "    e = DataHistogram(energy=e_energy, time=e_time)\n",
    "    return a, b, c, d, e"
   ]
  },
  {
   "cell_type": "markdown",
   "metadata": {},
   "source": [
    "## Data"
   ]
  },
  {
   "cell_type": "code",
   "execution_count": 4,
   "metadata": {},
   "outputs": [
    {
     "name": "stdout",
     "output_type": "stream",
     "text": [
      "./data/HcompassF_137Cs22Na_calibration_20221205_164235.root\n"
     ]
    }
   ],
   "source": [
    "calib_name = CALIBRATIONS[0]\n",
    "file_name  = glob.glob(f\"{DATA_PATH}/*{calib_name}*\")[0]\n",
    "print(file_name)"
   ]
  },
  {
   "cell_type": "code",
   "execution_count": 5,
   "metadata": {},
   "outputs": [],
   "source": [
    "a, b, c, d, e = create_datasets(file_name)"
   ]
  },
  {
   "cell_type": "markdown",
   "metadata": {},
   "source": [
    "## Exploratory Data Analysis"
   ]
  }
 ],
 "metadata": {
  "kernelspec": {
   "display_name": "Python 3.9.12 ('base')",
   "language": "python",
   "name": "python3"
  },
  "language_info": {
   "codemirror_mode": {
    "name": "ipython",
    "version": 3
   },
   "file_extension": ".py",
   "mimetype": "text/x-python",
   "name": "python",
   "nbconvert_exporter": "python",
   "pygments_lexer": "ipython3",
   "version": "3.9.12"
  },
  "orig_nbformat": 4,
  "vscode": {
   "interpreter": {
    "hash": "91e94dacc13bcc9ab92871d8572d4c8a018895bdfb2528d081f4892614b17d07"
   }
  }
 },
 "nbformat": 4,
 "nbformat_minor": 2
}
