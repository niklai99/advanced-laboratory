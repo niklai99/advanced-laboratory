{
 "cells": [
  {
   "cell_type": "markdown",
   "metadata": {},
   "source": [
    "# Advanced Laboratory (MOD B)"
   ]
  },
  {
   "cell_type": "code",
   "execution_count": 1,
   "metadata": {},
   "outputs": [],
   "source": [
    "import numpy as np\n",
    "import matplotlib.pyplot as plt\n",
    "import pandas as pd\n",
    "\n",
    "from DataFormat import DataFormat\n",
    "from read_data import read_data\n",
    "\n",
    "import os"
   ]
  },
  {
   "cell_type": "markdown",
   "metadata": {},
   "source": [
    "## Constants"
   ]
  },
  {
   "cell_type": "code",
   "execution_count": null,
   "metadata": {},
   "outputs": [],
   "source": [
    "# path to data files\n",
    "DATA_PATH = \"./data/\"\n",
    "\n",
    "# digitizers\n",
    "BOARD_1_ID = 2\n",
    "BOARD_2_ID = 3\n",
    "BOARD_3_ID = 4\n",
    "BOARD_4_ID = 5\n",
    "\n",
    "# strips\n",
    "STRIP_1_ID = 0\n",
    "STRIP_2_ID = 1\n",
    "STRIP_3_ID = 2\n",
    "STRIP_4_ID = 3\n",
    "STRIP_5_ID = 4\n",
    "STRIP_6_ID = 5\n",
    "STRIP_7_ID = 6\n",
    "\n",
    "# channels\n",
    "STARTING_CHANNEL = 0\n",
    "N_CHANNELS_BOARD = 16\n",
    "N_CHANNELS_STRIP = 8\n",
    "\n",
    "# create the plot directory if it does not exist\n",
    "if not os.path.exists(\"./plots\"):\n",
    "    os.makedirs(\"./plots\")"
   ]
  },
  {
   "cell_type": "markdown",
   "metadata": {},
   "source": [
    "## Data"
   ]
  },
  {
   "cell_type": "code",
   "execution_count": null,
   "metadata": {},
   "outputs": [],
   "source": [
    "data_fname  = None\n",
    "data_format = DataFormat()\n",
    "\n",
    "df = read_data(DATA_PATH, data_fname, data_format)\n",
    "\n",
    "# create a board tag\n",
    "df.loc[((df[\"board\"] == BOARD_1_ID) & (df[\"channel\"] >= STARTING_CHANNEL) & (df[\"channel\"] < N_CHANNELS_STRIP)),   \"strip\"] = STRIP_1_ID\n",
    "df.loc[((df[\"board\"] == BOARD_1_ID) & (df[\"channel\"] >= N_CHANNELS_STRIP) & (df[\"channel\"] < 2*N_CHANNELS_STRIP)), \"strip\"] = STRIP_2_ID\n",
    "df.loc[((df[\"board\"] == BOARD_2_ID) & (df[\"channel\"] >= STARTING_CHANNEL) & (df[\"channel\"] < N_CHANNELS_STRIP)),   \"strip\"] = STRIP_3_ID\n",
    "df.loc[((df[\"board\"] == BOARD_2_ID) & (df[\"channel\"] >= N_CHANNELS_STRIP) & (df[\"channel\"] < 2*N_CHANNELS_STRIP)), \"strip\"] = STRIP_4_ID\n",
    "df.loc[((df[\"board\"] == BOARD_3_ID) & (df[\"channel\"] >= STARTING_CHANNEL) & (df[\"channel\"] < N_CHANNELS_STRIP)),   \"strip\"] = STRIP_5_ID\n",
    "df.loc[((df[\"board\"] == BOARD_3_ID) & (df[\"channel\"] >= N_CHANNELS_STRIP) & (df[\"channel\"] < 2*N_CHANNELS_STRIP)), \"strip\"] = STRIP_6_ID\n",
    "df.loc[((df[\"board\"] == BOARD_4_ID) & (df[\"channel\"] >= STARTING_CHANNEL) & (df[\"channel\"] < N_CHANNELS_STRIP)),   \"strip\"] = STRIP_7_ID\n",
    "\n",
    "# create a strip channel tag ranging from 0 to 7\n",
    "for strip_id in range(7):\n",
    "    df.loc[(df[\"strip\"] == strip_id), \"strip_ch\"] = df.loc[(df[\"strip\"] == strip_id), \"channel\"] - df.loc[(df[\"strip\"] == strip_id), \"channel\"].unique().max() + N_CHANNELS_STRIP - 1\n",
    "\n",
    "# convert tags to small integers\n",
    "df = df.astype({\"strip\": \"int8\", \"strip_ch\": \"int8\"})"
   ]
  },
  {
   "cell_type": "markdown",
   "metadata": {},
   "source": [
    "## Exploratory Data Analysis"
   ]
  },
  {
   "cell_type": "code",
   "execution_count": null,
   "metadata": {},
   "outputs": [],
   "source": []
  }
 ],
 "metadata": {
  "kernelspec": {
   "display_name": "Python 3.9.12 ('base')",
   "language": "python",
   "name": "python3"
  },
  "language_info": {
   "codemirror_mode": {
    "name": "ipython",
    "version": 3
   },
   "file_extension": ".py",
   "mimetype": "text/x-python",
   "name": "python",
   "nbconvert_exporter": "python",
   "pygments_lexer": "ipython3",
   "version": "3.9.12"
  },
  "orig_nbformat": 4,
  "vscode": {
   "interpreter": {
    "hash": "91e94dacc13bcc9ab92871d8572d4c8a018895bdfb2528d081f4892614b17d07"
   }
  }
 },
 "nbformat": 4,
 "nbformat_minor": 2
}
