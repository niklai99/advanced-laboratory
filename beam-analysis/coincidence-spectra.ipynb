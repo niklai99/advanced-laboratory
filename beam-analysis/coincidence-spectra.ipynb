{
 "cells": [
  {
   "cell_type": "code",
   "execution_count": 1,
   "metadata": {},
   "outputs": [],
   "source": [
    "import numpy             as np\n",
    "import pandas            as pd\n",
    "import matplotlib.pyplot as plt\n",
    "import seaborn           as sns\n",
    "\n",
    "from DataFormat  import DataFormat\n",
    "from read_data   import read_data\n",
    "from calibration import read_calibration_parameters, linear_calibration\n",
    "\n",
    "from matplotlib.colors import LogNorm"
   ]
  },
  {
   "cell_type": "code",
   "execution_count": 11,
   "metadata": {},
   "outputs": [],
   "source": [
    "plt.rcParams['mathtext.fontset'] = 'cm'\n",
    "plt.rcParams['font.family']      = 'serif'"
   ]
  },
  {
   "cell_type": "code",
   "execution_count": 2,
   "metadata": {},
   "outputs": [],
   "source": [
    "DATA_PATH   = \"./data\"\n",
    "\n",
    "LABR_A  = \"labr-a\"\n",
    "LABR_B  = \"labr-b\"\n",
    "CLYC    = \"clyc\"\n",
    "PLASTIC = \"plastic\"\n",
    "\n",
    "RUN_DAYS = [2, 3]"
   ]
  },
  {
   "cell_type": "code",
   "execution_count": 3,
   "metadata": {},
   "outputs": [],
   "source": [
    "time_windows = [50, 100, 500, 1000, 5000, 10000, 50000, 100000] # in ns"
   ]
  },
  {
   "cell_type": "code",
   "execution_count": 6,
   "metadata": {},
   "outputs": [],
   "source": [
    "tw = 50\n",
    "\n",
    "labr_coincidence = pd.DataFrame(\n",
    "    columns=['board', 'channel', 'flag', 'timestamp', 'energy', 'energy_short', 'energy_calib', 'energy_short_calib', 'psd', 'psd_calib', 'id', 'Particle', 'time_window', 'run_day', 'detector']\n",
    ")\n",
    "\n",
    "for run_day in RUN_DAYS:\n",
    "    df_a = pd.read_csv(f\"{DATA_PATH}/labra-coincidence-day{run_day}-{tw}ns.csv\")\n",
    "    df_a.loc[:, \"time_window\"] = tw\n",
    "    df_a.loc[:, \"run_day\"]     = run_day\n",
    "    df_a.loc[:, \"detector\"]    = \"a\"\n",
    "    df_b = pd.read_csv(f\"{DATA_PATH}/labrb-coincidence-day{run_day}-{tw}ns.csv\")\n",
    "    df_b.loc[:, \"time_window\"] = tw\n",
    "    df_b.loc[:, \"run_day\"]     = run_day\n",
    "    df_b.loc[:, \"detector\"]    = \"b\"\n",
    "    labr_coincidence = labr_coincidence.append(df_a, ignore_index=True)\n",
    "    labr_coincidence = labr_coincidence.append(df_b, ignore_index=True)"
   ]
  },
  {
   "cell_type": "code",
   "execution_count": 7,
   "metadata": {},
   "outputs": [
    {
     "data": {
      "text/html": [
       "<div>\n",
       "<style scoped>\n",
       "    .dataframe tbody tr th:only-of-type {\n",
       "        vertical-align: middle;\n",
       "    }\n",
       "\n",
       "    .dataframe tbody tr th {\n",
       "        vertical-align: top;\n",
       "    }\n",
       "\n",
       "    .dataframe thead th {\n",
       "        text-align: right;\n",
       "    }\n",
       "</style>\n",
       "<table border=\"1\" class=\"dataframe\">\n",
       "  <thead>\n",
       "    <tr style=\"text-align: right;\">\n",
       "      <th></th>\n",
       "      <th>board</th>\n",
       "      <th>channel</th>\n",
       "      <th>flag</th>\n",
       "      <th>timestamp</th>\n",
       "      <th>energy</th>\n",
       "      <th>energy_short</th>\n",
       "      <th>energy_calib</th>\n",
       "      <th>energy_short_calib</th>\n",
       "      <th>psd</th>\n",
       "      <th>psd_calib</th>\n",
       "      <th>id</th>\n",
       "      <th>Particle</th>\n",
       "      <th>time_window</th>\n",
       "      <th>run_day</th>\n",
       "      <th>detector</th>\n",
       "    </tr>\n",
       "  </thead>\n",
       "  <tbody>\n",
       "    <tr>\n",
       "      <th>0</th>\n",
       "      <td>1</td>\n",
       "      <td>2</td>\n",
       "      <td>16384</td>\n",
       "      <td>2333175639936</td>\n",
       "      <td>376</td>\n",
       "      <td>106</td>\n",
       "      <td>1873.989873</td>\n",
       "      <td>506.901266</td>\n",
       "      <td>0.718085</td>\n",
       "      <td>0.729507</td>\n",
       "      <td>641</td>\n",
       "      <td>Neutron</td>\n",
       "      <td>50</td>\n",
       "      <td>2</td>\n",
       "      <td>a</td>\n",
       "    </tr>\n",
       "    <tr>\n",
       "      <th>1</th>\n",
       "      <td>1</td>\n",
       "      <td>1</td>\n",
       "      <td>16384</td>\n",
       "      <td>2333175619718</td>\n",
       "      <td>62</td>\n",
       "      <td>62</td>\n",
       "      <td>217.150205</td>\n",
       "      <td>217.150205</td>\n",
       "      <td>0.000000</td>\n",
       "      <td>0.000000</td>\n",
       "      <td>1546</td>\n",
       "      <td>Gamma</td>\n",
       "      <td>50</td>\n",
       "      <td>2</td>\n",
       "      <td>a</td>\n",
       "    </tr>\n",
       "    <tr>\n",
       "      <th>2</th>\n",
       "      <td>1</td>\n",
       "      <td>2</td>\n",
       "      <td>16384</td>\n",
       "      <td>78699709956874</td>\n",
       "      <td>903</td>\n",
       "      <td>282</td>\n",
       "      <td>4542.344304</td>\n",
       "      <td>1398.040506</td>\n",
       "      <td>0.687708</td>\n",
       "      <td>0.692220</td>\n",
       "      <td>21150</td>\n",
       "      <td>Neutron</td>\n",
       "      <td>50</td>\n",
       "      <td>2</td>\n",
       "      <td>a</td>\n",
       "    </tr>\n",
       "    <tr>\n",
       "      <th>3</th>\n",
       "      <td>1</td>\n",
       "      <td>1</td>\n",
       "      <td>16384</td>\n",
       "      <td>78699709965328</td>\n",
       "      <td>88</td>\n",
       "      <td>88</td>\n",
       "      <td>303.079736</td>\n",
       "      <td>303.079736</td>\n",
       "      <td>0.000000</td>\n",
       "      <td>0.000000</td>\n",
       "      <td>51189</td>\n",
       "      <td>Gamma</td>\n",
       "      <td>50</td>\n",
       "      <td>2</td>\n",
       "      <td>a</td>\n",
       "    </tr>\n",
       "    <tr>\n",
       "      <th>4</th>\n",
       "      <td>1</td>\n",
       "      <td>2</td>\n",
       "      <td>16384</td>\n",
       "      <td>126234206747779</td>\n",
       "      <td>570</td>\n",
       "      <td>169</td>\n",
       "      <td>2856.268354</td>\n",
       "      <td>825.888608</td>\n",
       "      <td>0.703509</td>\n",
       "      <td>0.710850</td>\n",
       "      <td>33998</td>\n",
       "      <td>Neutron</td>\n",
       "      <td>50</td>\n",
       "      <td>2</td>\n",
       "      <td>a</td>\n",
       "    </tr>\n",
       "    <tr>\n",
       "      <th>...</th>\n",
       "      <td>...</td>\n",
       "      <td>...</td>\n",
       "      <td>...</td>\n",
       "      <td>...</td>\n",
       "      <td>...</td>\n",
       "      <td>...</td>\n",
       "      <td>...</td>\n",
       "      <td>...</td>\n",
       "      <td>...</td>\n",
       "      <td>...</td>\n",
       "      <td>...</td>\n",
       "      <td>...</td>\n",
       "      <td>...</td>\n",
       "      <td>...</td>\n",
       "      <td>...</td>\n",
       "    </tr>\n",
       "    <tr>\n",
       "      <th>1725</th>\n",
       "      <td>1</td>\n",
       "      <td>0</td>\n",
       "      <td>16640</td>\n",
       "      <td>15030974567598592</td>\n",
       "      <td>216</td>\n",
       "      <td>216</td>\n",
       "      <td>772.998806</td>\n",
       "      <td>772.998806</td>\n",
       "      <td>0.000000</td>\n",
       "      <td>0.000000</td>\n",
       "      <td>6546585</td>\n",
       "      <td>Gamma</td>\n",
       "      <td>50</td>\n",
       "      <td>3</td>\n",
       "      <td>b</td>\n",
       "    </tr>\n",
       "    <tr>\n",
       "      <th>1726</th>\n",
       "      <td>1</td>\n",
       "      <td>2</td>\n",
       "      <td>16384</td>\n",
       "      <td>15173094118146365</td>\n",
       "      <td>1180</td>\n",
       "      <td>372</td>\n",
       "      <td>5944.875949</td>\n",
       "      <td>1853.736709</td>\n",
       "      <td>0.684746</td>\n",
       "      <td>0.688179</td>\n",
       "      <td>3091608</td>\n",
       "      <td>Neutron</td>\n",
       "      <td>50</td>\n",
       "      <td>3</td>\n",
       "      <td>b</td>\n",
       "    </tr>\n",
       "    <tr>\n",
       "      <th>1727</th>\n",
       "      <td>1</td>\n",
       "      <td>0</td>\n",
       "      <td>16384</td>\n",
       "      <td>15173094118151560</td>\n",
       "      <td>56</td>\n",
       "      <td>56</td>\n",
       "      <td>209.447080</td>\n",
       "      <td>209.447080</td>\n",
       "      <td>0.000000</td>\n",
       "      <td>0.000000</td>\n",
       "      <td>6604082</td>\n",
       "      <td>Gamma</td>\n",
       "      <td>50</td>\n",
       "      <td>3</td>\n",
       "      <td>b</td>\n",
       "    </tr>\n",
       "    <tr>\n",
       "      <th>1728</th>\n",
       "      <td>1</td>\n",
       "      <td>2</td>\n",
       "      <td>16384</td>\n",
       "      <td>15429538088691873</td>\n",
       "      <td>412</td>\n",
       "      <td>116</td>\n",
       "      <td>2056.268354</td>\n",
       "      <td>557.534177</td>\n",
       "      <td>0.718447</td>\n",
       "      <td>0.728861</td>\n",
       "      <td>3139773</td>\n",
       "      <td>Neutron</td>\n",
       "      <td>50</td>\n",
       "      <td>3</td>\n",
       "      <td>b</td>\n",
       "    </tr>\n",
       "    <tr>\n",
       "      <th>1729</th>\n",
       "      <td>1</td>\n",
       "      <td>0</td>\n",
       "      <td>16384</td>\n",
       "      <td>15429538088696280</td>\n",
       "      <td>130</td>\n",
       "      <td>129</td>\n",
       "      <td>470.089753</td>\n",
       "      <td>466.567555</td>\n",
       "      <td>0.007692</td>\n",
       "      <td>0.007493</td>\n",
       "      <td>6708434</td>\n",
       "      <td>Gamma</td>\n",
       "      <td>50</td>\n",
       "      <td>3</td>\n",
       "      <td>b</td>\n",
       "    </tr>\n",
       "  </tbody>\n",
       "</table>\n",
       "<p>1730 rows × 15 columns</p>\n",
       "</div>"
      ],
      "text/plain": [
       "     board channel   flag          timestamp energy energy_short  \\\n",
       "0        1       2  16384      2333175639936    376          106   \n",
       "1        1       1  16384      2333175619718     62           62   \n",
       "2        1       2  16384     78699709956874    903          282   \n",
       "3        1       1  16384     78699709965328     88           88   \n",
       "4        1       2  16384    126234206747779    570          169   \n",
       "...    ...     ...    ...                ...    ...          ...   \n",
       "1725     1       0  16640  15030974567598592    216          216   \n",
       "1726     1       2  16384  15173094118146365   1180          372   \n",
       "1727     1       0  16384  15173094118151560     56           56   \n",
       "1728     1       2  16384  15429538088691873    412          116   \n",
       "1729     1       0  16384  15429538088696280    130          129   \n",
       "\n",
       "      energy_calib  energy_short_calib       psd  psd_calib       id Particle  \\\n",
       "0      1873.989873          506.901266  0.718085   0.729507      641  Neutron   \n",
       "1       217.150205          217.150205  0.000000   0.000000     1546    Gamma   \n",
       "2      4542.344304         1398.040506  0.687708   0.692220    21150  Neutron   \n",
       "3       303.079736          303.079736  0.000000   0.000000    51189    Gamma   \n",
       "4      2856.268354          825.888608  0.703509   0.710850    33998  Neutron   \n",
       "...            ...                 ...       ...        ...      ...      ...   \n",
       "1725    772.998806          772.998806  0.000000   0.000000  6546585    Gamma   \n",
       "1726   5944.875949         1853.736709  0.684746   0.688179  3091608  Neutron   \n",
       "1727    209.447080          209.447080  0.000000   0.000000  6604082    Gamma   \n",
       "1728   2056.268354          557.534177  0.718447   0.728861  3139773  Neutron   \n",
       "1729    470.089753          466.567555  0.007692   0.007493  6708434    Gamma   \n",
       "\n",
       "     time_window run_day detector  \n",
       "0             50       2        a  \n",
       "1             50       2        a  \n",
       "2             50       2        a  \n",
       "3             50       2        a  \n",
       "4             50       2        a  \n",
       "...          ...     ...      ...  \n",
       "1725          50       3        b  \n",
       "1726          50       3        b  \n",
       "1727          50       3        b  \n",
       "1728          50       3        b  \n",
       "1729          50       3        b  \n",
       "\n",
       "[1730 rows x 15 columns]"
      ]
     },
     "execution_count": 7,
     "metadata": {},
     "output_type": "execute_result"
    }
   ],
   "source": [
    "labr_coincidence"
   ]
  },
  {
   "cell_type": "code",
   "execution_count": 10,
   "metadata": {},
   "outputs": [
    {
     "name": "stdout",
     "output_type": "stream",
     "text": [
      "Gamma events: 865\n",
      "Neutron events: 865\n"
     ]
    }
   ],
   "source": [
    "labr_gamma = labr_coincidence[labr_coincidence[\"Particle\"] == \"Gamma\"]\n",
    "labr_neutron = labr_coincidence[labr_coincidence[\"Particle\"] == \"Neutron\"]\n",
    "\n",
    "print(f\"Gamma events: {len(labr_gamma)}\")\n",
    "print(f\"Neutron events: {len(labr_neutron)}\")"
   ]
  },
  {
   "cell_type": "code",
   "execution_count": 19,
   "metadata": {},
   "outputs": [
    {
     "data": {
      "image/png": "[encoded data removed]",
      "text/plain": [
       "<Figure size 576x360 with 1 Axes>"
      ]
     },
     "metadata": {
      "needs_background": "light"
     },
     "output_type": "display_data"
    }
   ],
   "source": [
    "fig, ax = plt.subplots(figsize=(8, 5), constrained_layout=True)\n",
    "\n",
    "ax.hist(\n",
    "    labr_gamma[\"energy_calib\"],\n",
    "    bins      = np.linspace(0, 8000, 250), \n",
    "    histtype  = \"stepfilled\", \n",
    "    edgecolor = \"#06416D\", \n",
    "    facecolor = \"#7eb0d5\",\n",
    "    label     = f\"{tw} ns\"\n",
    ")\n",
    "\n",
    "ax.set_xlim(0, 8000)\n",
    "\n",
    "ax.set_xlabel(\"Energy [keV]\",                     fontdict={'fontfamily':'serif', 'fontsize':14})\n",
    "ax.set_ylabel(\"Counts\",                           fontdict={'fontfamily':'serif', 'fontsize':14})\n",
    "ax.set_title(f\"Coincidence window: {int(tw)} ns\", fontdict={'fontfamily':'serif', 'fontsize':16})\n",
    "\n",
    "\n",
    "# ticks \n",
    "ax.tick_params(axis='both', which='both', direction='in', top=True, right=True, size=5, labelsize=14)\n",
    "    \n",
    "    \n",
    "fig.savefig(\"./plots/coincidence-spectrum.png\", dpi=300, facecolor=\"white\")\n",
    "plt.show()"
   ]
  },
  {
   "cell_type": "code",
   "execution_count": 23,
   "metadata": {},
   "outputs": [],
   "source": [
    "# mask on the neutrons\n",
    "# energy between 5500 kev and 7500 kev\n",
    "# psd between 0.66 and 0.74\n",
    "neutron_mask = (labr_neutron[\"energy_calib\"] > 5500) & (labr_neutron[\"energy_calib\"] < 7500) & (labr_neutron[\"psd_calib\"] > 0.66) & (labr_neutron[\"psd_calib\"] < 0.74)\n",
    "\n",
    "labr_gamma_masked = labr_gamma[neutron_mask.values]"
   ]
  },
  {
   "cell_type": "code",
   "execution_count": 25,
   "metadata": {},
   "outputs": [
    {
     "data": {
      "text/plain": [
       "(18, 15)"
      ]
     },
     "execution_count": 25,
     "metadata": {},
     "output_type": "execute_result"
    }
   ],
   "source": [
    "labr_gamma_masked.shape"
   ]
  },
  {
   "cell_type": "code",
   "execution_count": 28,
   "metadata": {},
   "outputs": [
    {
     "data": {
      "text/plain": [
       "18"
      ]
     },
     "execution_count": 28,
     "metadata": {},
     "output_type": "execute_result"
    }
   ],
   "source": [
    "np.sum(neutron_mask.values)"
   ]
  },
  {
   "cell_type": "code",
   "execution_count": 29,
   "metadata": {},
   "outputs": [
    {
     "data": {
      "text/plain": [
       "(865, 15)"
      ]
     },
     "execution_count": 29,
     "metadata": {},
     "output_type": "execute_result"
    }
   ],
   "source": [
    "labr_gamma.shape"
   ]
  },
  {
   "cell_type": "code",
   "execution_count": null,
   "metadata": {},
   "outputs": [],
   "source": []
  }
 ],
 "metadata": {
  "kernelspec": {
   "display_name": "base",
   "language": "python",
   "name": "python3"
  },
  "language_info": {
   "codemirror_mode": {
    "name": "ipython",
    "version": 3
   },
   "file_extension": ".py",
   "mimetype": "text/x-python",
   "name": "python",
   "nbconvert_exporter": "python",
   "pygments_lexer": "ipython3",
   "version": "3.9.12"
  },
  "orig_nbformat": 4,
  "vscode": {
   "interpreter": {
    "hash": "91e94dacc13bcc9ab92871d8572d4c8a018895bdfb2528d081f4892614b17d07"
   }
  }
 },
 "nbformat": 4,
 "nbformat_minor": 2
}
